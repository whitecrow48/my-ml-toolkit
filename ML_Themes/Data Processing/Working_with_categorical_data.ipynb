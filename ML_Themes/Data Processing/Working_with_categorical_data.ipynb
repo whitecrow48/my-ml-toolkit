{
 "cells": [
  {
   "cell_type": "markdown",
   "id": "6568b0a0-9d6c-4f68-a36a-48248b6607a2",
   "metadata": {},
   "source": [
    "<div align=\"center\">\n",
    "\n",
    "# Работа с категориальными признаками\n",
    "\n",
    "</div>\n",
    "\n",
    "---\n",
    "\n",
    "Категориальные данные бывают двух видов:\n",
    "\n",
    "* **Порядковые** — категории можно упорядочить по смыслу. Например, размеры одежды: маленький < средний < большой. Здесь есть естественный порядок.\n",
    "* **Номинальные** — категории просто разные, без порядка. Например, цвета: красный, синий, зелёный — нельзя сказать, что один цвет «больше» другого.\n",
    "\n",
    "То есть, порядковые данные можно сравнивать и упорядочивать, а номинальные — нет.\n"
   ]
  },
  {
   "cell_type": "code",
   "execution_count": 115,
   "id": "3cd3baa8-a028-4300-9f99-81ecb7dea03f",
   "metadata": {},
   "outputs": [],
   "source": [
    "# Создание  DataFrame с демонстрационными данными\n",
    "import pandas as pd\n",
    "import numpy as np\n",
    "from sklearn.preprocessing import LabelEncoder\n",
    "from sklearn.preprocessing import OneHotEncoder\n",
    "from sklearn.compose import ColumnTransformer"
   ]
  },
  {
   "cell_type": "code",
   "execution_count": 116,
   "id": "e14019bd-9904-452c-88ce-235b57848349",
   "metadata": {},
   "outputs": [
    {
     "data": {
      "text/html": [
       "<div>\n",
       "<style scoped>\n",
       "    .dataframe tbody tr th:only-of-type {\n",
       "        vertical-align: middle;\n",
       "    }\n",
       "\n",
       "    .dataframe tbody tr th {\n",
       "        vertical-align: top;\n",
       "    }\n",
       "\n",
       "    .dataframe thead th {\n",
       "        text-align: right;\n",
       "    }\n",
       "</style>\n",
       "<table border=\"1\" class=\"dataframe\">\n",
       "  <thead>\n",
       "    <tr style=\"text-align: right;\">\n",
       "      <th></th>\n",
       "      <th>color</th>\n",
       "      <th>size</th>\n",
       "      <th>price</th>\n",
       "      <th>classlabel</th>\n",
       "    </tr>\n",
       "  </thead>\n",
       "  <tbody>\n",
       "    <tr>\n",
       "      <th>0</th>\n",
       "      <td>green</td>\n",
       "      <td>M</td>\n",
       "      <td>10.1</td>\n",
       "      <td>class2</td>\n",
       "    </tr>\n",
       "    <tr>\n",
       "      <th>1</th>\n",
       "      <td>red</td>\n",
       "      <td>L</td>\n",
       "      <td>13.5</td>\n",
       "      <td>class1</td>\n",
       "    </tr>\n",
       "    <tr>\n",
       "      <th>2</th>\n",
       "      <td>blue</td>\n",
       "      <td>XL</td>\n",
       "      <td>15.3</td>\n",
       "      <td>class2</td>\n",
       "    </tr>\n",
       "  </tbody>\n",
       "</table>\n",
       "</div>"
      ],
      "text/plain": [
       "   color size  price classlabel\n",
       "0  green    M   10.1     class2\n",
       "1    red    L   13.5     class1\n",
       "2   blue   XL   15.3     class2"
      ]
     },
     "execution_count": 116,
     "metadata": {},
     "output_type": "execute_result"
    }
   ],
   "source": [
    "df = pd.DataFrame([\n",
    "            ['green', 'M', 10.1, 'class2'],\n",
    "            ['red', 'L', 13.5, 'class1'],\n",
    "            ['blue', 'XL', 15.3, 'class2']])\n",
    "df.columns = ['color', 'size', 'price', 'classlabel']\n",
    "df"
   ]
  },
  {
   "cell_type": "markdown",
   "id": "825f9c4f-2294-40dd-ac2b-9b71ce90f201",
   "metadata": {},
   "source": [
    "В этом DataFrame есть три типа признаков: **номинальный (цвет)**, **порядковый (размер)** и **числовой (цена)**. Метки классов — последний столбец.\n",
    "\n",
    "Чтобы алгоритм правильно понял порядок категориальных признаков (например, размер одежды), нужно вручную заменить текстовые метки числами, отражающими их порядок. Автоматически это сделать сложно, поэтому задаём соответствие сами, например:\n",
    "M = 1, L = 2, XL = 3."
   ]
  },
  {
   "cell_type": "code",
   "execution_count": 117,
   "id": "923ca4c3-15eb-4457-ba58-4c5ab5cb14f8",
   "metadata": {},
   "outputs": [
    {
     "data": {
      "text/html": [
       "<div>\n",
       "<style scoped>\n",
       "    .dataframe tbody tr th:only-of-type {\n",
       "        vertical-align: middle;\n",
       "    }\n",
       "\n",
       "    .dataframe tbody tr th {\n",
       "        vertical-align: top;\n",
       "    }\n",
       "\n",
       "    .dataframe thead th {\n",
       "        text-align: right;\n",
       "    }\n",
       "</style>\n",
       "<table border=\"1\" class=\"dataframe\">\n",
       "  <thead>\n",
       "    <tr style=\"text-align: right;\">\n",
       "      <th></th>\n",
       "      <th>color</th>\n",
       "      <th>size</th>\n",
       "      <th>price</th>\n",
       "      <th>classlabel</th>\n",
       "    </tr>\n",
       "  </thead>\n",
       "  <tbody>\n",
       "    <tr>\n",
       "      <th>0</th>\n",
       "      <td>green</td>\n",
       "      <td>1</td>\n",
       "      <td>10.1</td>\n",
       "      <td>class2</td>\n",
       "    </tr>\n",
       "    <tr>\n",
       "      <th>1</th>\n",
       "      <td>red</td>\n",
       "      <td>2</td>\n",
       "      <td>13.5</td>\n",
       "      <td>class1</td>\n",
       "    </tr>\n",
       "    <tr>\n",
       "      <th>2</th>\n",
       "      <td>blue</td>\n",
       "      <td>3</td>\n",
       "      <td>15.3</td>\n",
       "      <td>class2</td>\n",
       "    </tr>\n",
       "  </tbody>\n",
       "</table>\n",
       "</div>"
      ],
      "text/plain": [
       "   color  size  price classlabel\n",
       "0  green     1   10.1     class2\n",
       "1    red     2   13.5     class1\n",
       "2   blue     3   15.3     class2"
      ]
     },
     "execution_count": 117,
     "metadata": {},
     "output_type": "execute_result"
    }
   ],
   "source": [
    "size_mapping = {'XL': 3,\n",
    "                'L': 2,\n",
    "                'M': 1}\n",
    "df['size'] = df['size'].map(size_mapping)\n",
    "df"
   ]
  },
  {
   "cell_type": "markdown",
   "id": "62f39463-80bb-41b1-a976-67e6545efff7",
   "metadata": {},
   "source": [
    "Если нужно вернуть числа обратно в исходные строки, достаточно создать обратный словарь с соответствиями и применить его к столбцу через `map` в pandas. Это легко преобразует числовые значения обратно в текстовые метки."
   ]
  },
  {
   "cell_type": "code",
   "execution_count": 118,
   "id": "831b5326-ce18-49d6-be69-f509d985fb10",
   "metadata": {},
   "outputs": [
    {
     "data": {
      "text/plain": [
       "0     M\n",
       "1     L\n",
       "2    XL\n",
       "Name: size, dtype: object"
      ]
     },
     "execution_count": 118,
     "metadata": {},
     "output_type": "execute_result"
    }
   ],
   "source": [
    "inv_size_mapping = {v: k for k, v in size_mapping.items()}\n",
    "df['size'].map(inv_size_mapping)"
   ]
  },
  {
   "cell_type": "markdown",
   "id": "9563666c-4d3c-45db-b496-33f5bb230ad2",
   "metadata": {},
   "source": [
    "## Кодирование меток класса\n",
    "\n",
    "Многие библиотеки требуют, чтобы метки классов были числами. Хотя scikit-learn обычно сам это делает, лучше заранее представить метки как целые числа, чтобы избежать ошибок. Для этого можно просто сопоставить каждому классу уникальное число без учёта порядка — например, начать с 0 и далее по порядку.\n",
    "\n",
    "Затем использовать словарь сопоставлений для преобразования меток класса в целые числа."
   ]
  },
  {
   "cell_type": "code",
   "execution_count": 119,
   "id": "76a35c50-890a-4f06-a6cb-48df44105d3b",
   "metadata": {},
   "outputs": [
    {
     "data": {
      "text/plain": [
       "{'class1': 0, 'class2': 1}"
      ]
     },
     "execution_count": 119,
     "metadata": {},
     "output_type": "execute_result"
    }
   ],
   "source": [
    "class_mapping = {label: idx for idx, label in\n",
    "                 enumerate(np.unique(df['classlabel']))}\n",
    "class_mapping"
   ]
  },
  {
   "cell_type": "code",
   "execution_count": 120,
   "id": "e7a8041a-c9aa-4081-99d0-008fcd09cdd1",
   "metadata": {},
   "outputs": [
    {
     "data": {
      "text/html": [
       "<div>\n",
       "<style scoped>\n",
       "    .dataframe tbody tr th:only-of-type {\n",
       "        vertical-align: middle;\n",
       "    }\n",
       "\n",
       "    .dataframe tbody tr th {\n",
       "        vertical-align: top;\n",
       "    }\n",
       "\n",
       "    .dataframe thead th {\n",
       "        text-align: right;\n",
       "    }\n",
       "</style>\n",
       "<table border=\"1\" class=\"dataframe\">\n",
       "  <thead>\n",
       "    <tr style=\"text-align: right;\">\n",
       "      <th></th>\n",
       "      <th>color</th>\n",
       "      <th>size</th>\n",
       "      <th>price</th>\n",
       "      <th>classlabel</th>\n",
       "    </tr>\n",
       "  </thead>\n",
       "  <tbody>\n",
       "    <tr>\n",
       "      <th>0</th>\n",
       "      <td>green</td>\n",
       "      <td>1</td>\n",
       "      <td>10.1</td>\n",
       "      <td>1</td>\n",
       "    </tr>\n",
       "    <tr>\n",
       "      <th>1</th>\n",
       "      <td>red</td>\n",
       "      <td>2</td>\n",
       "      <td>13.5</td>\n",
       "      <td>0</td>\n",
       "    </tr>\n",
       "    <tr>\n",
       "      <th>2</th>\n",
       "      <td>blue</td>\n",
       "      <td>3</td>\n",
       "      <td>15.3</td>\n",
       "      <td>1</td>\n",
       "    </tr>\n",
       "  </tbody>\n",
       "</table>\n",
       "</div>"
      ],
      "text/plain": [
       "   color  size  price  classlabel\n",
       "0  green     1   10.1           1\n",
       "1    red     2   13.5           0\n",
       "2   blue     3   15.3           1"
      ]
     },
     "execution_count": 120,
     "metadata": {},
     "output_type": "execute_result"
    }
   ],
   "source": [
    "# Преобразование меток класса в целые числа\n",
    "df['classlabel'] = df['classlabel'].map(class_mapping)\n",
    "df"
   ]
  },
  {
   "cell_type": "markdown",
   "id": "3487aa5a-96e1-4955-9cb3-4510ae48fb9e",
   "metadata": {},
   "source": [
    "Чтобы вернуть числовые метки классов обратно в исходные строки, достаточно создать обратный словарь, поменяв местами ключи и значения, и применить его для преобразования чисел обратно в метки."
   ]
  },
  {
   "cell_type": "code",
   "execution_count": 121,
   "id": "8f2bbe3c-6858-45dd-a069-acfe6ffeb882",
   "metadata": {},
   "outputs": [
    {
     "data": {
      "text/html": [
       "<div>\n",
       "<style scoped>\n",
       "    .dataframe tbody tr th:only-of-type {\n",
       "        vertical-align: middle;\n",
       "    }\n",
       "\n",
       "    .dataframe tbody tr th {\n",
       "        vertical-align: top;\n",
       "    }\n",
       "\n",
       "    .dataframe thead th {\n",
       "        text-align: right;\n",
       "    }\n",
       "</style>\n",
       "<table border=\"1\" class=\"dataframe\">\n",
       "  <thead>\n",
       "    <tr style=\"text-align: right;\">\n",
       "      <th></th>\n",
       "      <th>color</th>\n",
       "      <th>size</th>\n",
       "      <th>price</th>\n",
       "      <th>classlabel</th>\n",
       "    </tr>\n",
       "  </thead>\n",
       "  <tbody>\n",
       "    <tr>\n",
       "      <th>0</th>\n",
       "      <td>green</td>\n",
       "      <td>1</td>\n",
       "      <td>10.1</td>\n",
       "      <td>class2</td>\n",
       "    </tr>\n",
       "    <tr>\n",
       "      <th>1</th>\n",
       "      <td>red</td>\n",
       "      <td>2</td>\n",
       "      <td>13.5</td>\n",
       "      <td>class1</td>\n",
       "    </tr>\n",
       "    <tr>\n",
       "      <th>2</th>\n",
       "      <td>blue</td>\n",
       "      <td>3</td>\n",
       "      <td>15.3</td>\n",
       "      <td>class2</td>\n",
       "    </tr>\n",
       "  </tbody>\n",
       "</table>\n",
       "</div>"
      ],
      "text/plain": [
       "   color  size  price classlabel\n",
       "0  green     1   10.1     class2\n",
       "1    red     2   13.5     class1\n",
       "2   blue     3   15.3     class2"
      ]
     },
     "execution_count": 121,
     "metadata": {},
     "output_type": "execute_result"
    }
   ],
   "source": [
    "inv_class_mapping = {v: k for k, v in class_mapping.items()}\n",
    "df['classlabel'] = df['classlabel'].map(inv_class_mapping)\n",
    "df"
   ]
  },
  {
   "cell_type": "markdown",
   "id": "656b048b-afc6-4730-88be-ee4fdaace4f0",
   "metadata": {},
   "source": [
    "Альтернативно можно использовать `LabelEncoder` из scikit-learn — удобный класс, который автоматически преобразует строковые метки классов в целые числа и обратно."
   ]
  },
  {
   "cell_type": "code",
   "execution_count": 122,
   "id": "c25be7ee-bd94-416c-8d0c-17d9511b11fd",
   "metadata": {},
   "outputs": [
    {
     "data": {
      "text/plain": [
       "array([1, 0, 1])"
      ]
     },
     "execution_count": 122,
     "metadata": {},
     "output_type": "execute_result"
    }
   ],
   "source": [
    "class_le = LabelEncoder()\n",
    "y = class_le.fit_transform(df['classlabel'].values)\n",
    "y"
   ]
  },
  {
   "cell_type": "markdown",
   "id": "605c2750-2c3a-4d09-8c2b-4334966714c9",
   "metadata": {},
   "source": [
    "Метод `fit_transform` сочетает в себе вызовы `fit` и `transform` — сначала обучается на данных, затем сразу преобразует их. Чтобы вернуть числовые метки обратно в строки, используют метод `inverse_transform`."
   ]
  },
  {
   "cell_type": "code",
   "execution_count": 123,
   "id": "b2045b86-c4b2-45d6-bee0-78e1ceae3351",
   "metadata": {},
   "outputs": [
    {
     "data": {
      "text/plain": [
       "array(['class2', 'class1', 'class2'], dtype=object)"
      ]
     },
     "execution_count": 123,
     "metadata": {},
     "output_type": "execute_result"
    }
   ],
   "source": [
    "class_le.inverse_transform(y)"
   ]
  },
  {
   "cell_type": "markdown",
   "id": "54b5ef57-68f4-4d6e-9248-6049f174e6ac",
   "metadata": {},
   "source": [
    "## Позиционное кодирование номинальных признаков\n",
    "\n",
    "Поскольку метки классов в scikit-learn считаются номинальными (без порядка), для их кодирования удобно использовать `LabelEncoder`. \n",
    "Аналогично, этим же методом можно преобразовать любой номинальный признак, например, столбец с цветами.\n"
   ]
  },
  {
   "cell_type": "code",
   "execution_count": 124,
   "id": "1a1f8582-af50-40fc-a9bd-af709d45c227",
   "metadata": {},
   "outputs": [
    {
     "data": {
      "text/plain": [
       "array([[1, 1, 10.1],\n",
       "       [2, 2, 13.5],\n",
       "       [0, 3, 15.3]], dtype=object)"
      ]
     },
     "execution_count": 124,
     "metadata": {},
     "output_type": "execute_result"
    }
   ],
   "source": [
    "X = df[['color', 'size', 'price']].values\n",
    "color_le = LabelEncoder()\n",
    "X[:, 0] = color_le.fit_transform(X[:, 0])\n",
    "X"
   ]
  },
  {
   "cell_type": "markdown",
   "id": "df11fa2b-2718-4523-8ec3-ba2f3713a8b5",
   "metadata": {},
   "source": [
    "Если просто заменить категории числовыми метками (например, цвет \"blue\" — 0, \"green\" — 1, \"red\" — 2), то многие модели машинного обучения будут считать, что между этими числами есть порядок и расстояния. Например, модель может понять, что \"green\" больше \"blue\", а \"red\" больше \"green\". Но для номинальных признаков, таких как цвет, такой порядок не имеет смысла — \"red\" не «больше» и не «меньше» \"green\".\n",
    "\n",
    "Из-за этого модель может неправильно интерпретировать данные и делать менее точные предсказания.\n",
    "\n",
    "Чтобы избежать этой ошибки, применяют **one-hot кодирование** (или прямое позиционное кодирование). Его идея в том, что для каждого уникального значения признака создаётся отдельный бинарный столбец (фиктивный признак). В нашем примере для цвета создаются три столбца — \"blue\", \"green\" и \"red\". В каждой строке будет 1 в столбце, соответствующем цвету этого образца, и 0 в остальных.\n",
    "\n",
    "Например:\n",
    "\n",
    "* \"green\" → \\[0, 1, 0]\n",
    "* \"red\" → \\[0, 0, 1]\n",
    "* \"blue\" → \\[1, 0, 0]\n",
    "\n",
    "Такой способ кодирования убирает искусственный порядок и позволяет модели правильно работать с номинальными признаками.\n",
    "\n",
    "Для этого в scikit-learn есть удобный класс `OneHotEncoder` из модуля `preprocessing`, который автоматически выполняет это преобразование.\n",
    "\n"
   ]
  },
  {
   "cell_type": "code",
   "execution_count": 125,
   "id": "aa04cd4f-ef88-4995-910a-9679bbb63426",
   "metadata": {},
   "outputs": [
    {
     "data": {
      "text/plain": [
       "array([[0., 1., 0.],\n",
       "       [0., 0., 1.],\n",
       "       [1., 0., 0.]])"
      ]
     },
     "execution_count": 125,
     "metadata": {},
     "output_type": "execute_result"
    }
   ],
   "source": [
    "X = df[['color', 'size', 'price']].values\n",
    "color_ohe = OneHotEncoder()\n",
    "color_ohe.fit_transform(X[:, 0].reshape(-1, 1)).toarray()\n"
   ]
  },
  {
   "cell_type": "markdown",
   "id": "3ee1878d-6199-492e-b36d-8e4d4ed5d047",
   "metadata": {},
   "source": [
    "Важно отметить, что мы применили `OneHotEncoder` только к одному столбцу (например, `X[:, 0].reshape(-1, 1)`), чтобы случайно не преобразовать остальные признаки. Если у вас есть массив с несколькими признаками, и вы хотите кодировать **только определённые столбцы**, удобно использовать **`ColumnTransformer`** из scikit-learn.\n",
    "\n",
    "`ColumnTransformer` позволяет применять разные преобразования к разным столбцам. Он принимает список кортежей вида:\n",
    "\n",
    "```\n",
    "(name, transformer, columns)\n",
    "```\n",
    "\n",
    "Где:\n",
    "\n",
    "* `name` — произвольное имя преобразования,\n",
    "* `transformer` — что применять (например, `OneHotEncoder()`),\n",
    "* `columns` — какие столбцы трансформировать (номер или список).\n",
    "\n",
    "Это особенно полезно, когда у вас смесь числовых, порядковых и категориальных данных, и каждому типу требуется своё преобразование.\n"
   ]
  },
  {
   "cell_type": "code",
   "execution_count": 126,
   "id": "d9fb7a60-7f64-4a8f-89be-3d08d787cbb9",
   "metadata": {},
   "outputs": [
    {
     "data": {
      "text/plain": [
       "array([[ 0. ,  1. ,  0. ,  1. , 10.1],\n",
       "       [ 0. ,  0. ,  1. ,  2. , 13.5],\n",
       "       [ 1. ,  0. ,  0. ,  3. , 15.3]])"
      ]
     },
     "execution_count": 126,
     "metadata": {},
     "output_type": "execute_result"
    }
   ],
   "source": [
    "X = df[['color', 'size', 'price']].values\n",
    "c_transf = ColumnTransformer([\n",
    "    ('onehot', OneHotEncoder(), [0]),\n",
    "    ('nothing', 'passthrough', [1, 2])\n",
    "])\n",
    "c_transf.fit_transform(X).astype(float)"
   ]
  },
  {
   "cell_type": "markdown",
   "id": "854b6298-322b-466f-8b39-ff4133eb33d9",
   "metadata": {},
   "source": [
    "В приведённом примере с `ColumnTransformer` мы использовали аргумент `'passthrough'`, чтобы изменить только указанный столбец (например, с цветом), а остальные признаки (например, размер и цена) оставить без изменений. Это удобно, когда нужно выборочно применять преобразования.\n",
    "\n",
    "Ещё более простой способ создать фиктивные (one-hot) признаки — использовать метод `pandas.get_dummies()`. Он автоматически находит все **строковые столбцы** в `DataFrame` и кодирует их, при этом оставляя **числовые столбцы без изменений**. Это быстрый и удобный способ для позиционного кодирования категориальных признаков прямо в `pandas`, без необходимости вручную указывать столбцы.\n",
    "\n",
    "\n",
    "Удаление одного из столбцов при one-hot кодировании (через `drop='first'`) нужно, чтобы избежать **мультиколлинеарности** — ситуации, когда один признак можно точно выразить через другие. Это особенно важно для линейных моделей (например, логистической регрессии), где избыточные признаки могут мешать обучению.\n",
    "\n",
    "Параметр `drop='first'` в `OneHotEncoder` удаляет первый столбец из каждой категории, сохраняя при этом всю информацию, но без избыточности.\n",
    "Параметр `categories='auto'` говорит, что уникальные значения категорий следует определять автоматически — это поведение по умолчанию."
   ]
  },
  {
   "cell_type": "code",
   "execution_count": 127,
   "id": "44b05cb9-f81a-4574-af39-23ac02ddeeeb",
   "metadata": {},
   "outputs": [
    {
     "data": {
      "text/plain": [
       "array([[ 1. ,  0. ,  1. , 10.1],\n",
       "       [ 0. ,  1. ,  2. , 13.5],\n",
       "       [ 0. ,  0. ,  3. , 15.3]])"
      ]
     },
     "execution_count": 127,
     "metadata": {},
     "output_type": "execute_result"
    }
   ],
   "source": [
    "color_ohe = OneHotEncoder(categories = 'auto', drop = 'first')\n",
    "c_transf = ColumnTransformer([\n",
    "    ('onehot', color_ohe, [0]),\n",
    "    ('nothing', 'passthrough', [1, 2])\n",
    "])\n",
    "c_transf.fit_transform(X).astype(float)"
   ]
  },
  {
   "cell_type": "markdown",
   "id": "6cc6ef5f-9287-496a-8349-8f879276abfe",
   "metadata": {},
   "source": [
    "Хотя one-hot кодирование — самый распространённый способ обработки категориальных признаков, при большом числе уникальных значений оно может создавать слишком много столбцов. В таких случаях есть альтернативы:\n",
    "\n",
    "* **Бинарное кодирование**: категории преобразуются в числа, затем в двоичный формат — это снижает число признаков до примерно `log2(K)`, где K — количество категорий.\n",
    "* **Частотное и счётное кодирование**: категории заменяются на частоту или количество их появлений в данных.\n",
    "\n",
    "Эти методы доступны в библиотеке `category_encoders`, совместимой с scikit-learn. Хотя они не всегда лучше one-hot, их можно использовать как **гиперпараметр**, чтобы улучшить модель в некоторых задачах.\n"
   ]
  }
 ],
 "metadata": {
  "kernelspec": {
   "display_name": "ML Lab",
   "language": "python",
   "name": "my-ml-toolkit_env"
  },
  "language_info": {
   "codemirror_mode": {
    "name": "ipython",
    "version": 3
   },
   "file_extension": ".py",
   "mimetype": "text/x-python",
   "name": "python",
   "nbconvert_exporter": "python",
   "pygments_lexer": "ipython3",
   "version": "3.12.3"
  }
 },
 "nbformat": 4,
 "nbformat_minor": 5
}
