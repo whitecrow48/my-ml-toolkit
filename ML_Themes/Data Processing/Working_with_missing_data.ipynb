{
 "cells": [
  {
   "cell_type": "markdown",
   "id": "275dcd4e-9abf-432e-98a6-ed5a3ab5c6db",
   "metadata": {},
   "source": [
    "<div align=\"center\">\n",
    "    \n",
    "# Как поступать с отсутсвующими данными?\n",
    "\n",
    "</div>\n",
    "\n",
    "---\n",
    "\n",
    "Мы рассмотрим несколько практических методов решения проблемы\n",
    "пропущенных значений путем удаления неполных записей из набора данных или подстановки пропущенных значений из других обучающих экземпляров и признаков.\n",
    "\n"
   ]
  },
  {
   "cell_type": "code",
   "execution_count": 34,
   "id": "9f170d38-0149-49b9-9d51-a9cba5797359",
   "metadata": {},
   "outputs": [
    {
     "name": "stdout",
     "output_type": "stream",
     "text": [
      "      A     B     C    D\n",
      "0   1.0   2.0   3.0  4.0\n",
      "1   5.0   6.0   NaN  8.0\n",
      "2  10.0  11.0  12.0  NaN\n"
     ]
    }
   ],
   "source": [
    "import pandas as pd\n",
    "from io import StringIO\n",
    "\n",
    "# Создаём строку, имитирующую CSV-файл\n",
    "csv_data = \\\n",
    "'''A,B,C,D\n",
    "1.0,2.0,3.0,4.0\n",
    "5.0,6.0,,8.0\n",
    "10.0,11.0,12.0,'''\n",
    "\n",
    "# Читаем CSV-данные с помощью StringIO\n",
    "df = pd.read_csv(StringIO(csv_data))\n",
    "\n",
    "# Выводим DataFrame\n",
    "print(df)"
   ]
  },
  {
   "cell_type": "markdown",
   "id": "81e8be01-e905-4956-881d-3f8898b351a4",
   "metadata": {},
   "source": [
    "Мы использовали `pd.read_csv` вместе с `StringIO`, чтобы загрузить CSV-данные из строки в `DataFrame`. Отсутствующие значения автоматически заменились на `NaN`. `StringIO` здесь просто имитирует файл, позволяя работать со строкой как с CSV-файлом.\n",
    "\n",
    "В больших DataFrame искать пропущенные значения вручную неудобно. Вместо этого используем метод `isnull()`, который показывает, где значения отсутствуют (`True`). А с помощью `sum()` можно посчитать количество таких пропусков в каждом столбце."
   ]
  },
  {
   "cell_type": "code",
   "execution_count": 35,
   "id": "7e9f1a3d-4ab3-48a8-8954-5742e0f8d5a0",
   "metadata": {},
   "outputs": [
    {
     "data": {
      "text/plain": [
       "A    0\n",
       "B    0\n",
       "C    1\n",
       "D    1\n",
       "dtype: int64"
      ]
     },
     "execution_count": 35,
     "metadata": {},
     "output_type": "execute_result"
    }
   ],
   "source": [
    "df.isnull().sum()"
   ]
  },
  {
   "cell_type": "markdown",
   "id": "68548e9b-3e86-4c8b-b961-a22af2448882",
   "metadata": {},
   "source": [
    "Для удобной предобработки можно использовать DataFrame из pandas, но scikit-learn всё ещё лучше работает с массивами NumPy. Поэтому перед передачей данных в модель лучше использовать .values, чтобы получить NumPy-массив из DataFrame:"
   ]
  },
  {
   "cell_type": "code",
   "execution_count": 36,
   "id": "8678e316-d36f-4c69-bb85-905dd61090a1",
   "metadata": {},
   "outputs": [
    {
     "data": {
      "text/plain": [
       "array([[ 1.,  2.,  3.,  4.],\n",
       "       [ 5.,  6., nan,  8.],\n",
       "       [10., 11., 12., nan]])"
      ]
     },
     "execution_count": 36,
     "metadata": {},
     "output_type": "execute_result"
    }
   ],
   "source": [
    "df.values"
   ]
  },
  {
   "cell_type": "markdown",
   "id": "83d97c0a-7a2d-4234-ab05-e36e9d87d745",
   "metadata": {},
   "source": [
    "## Исключение обучающих записей или признаков с пропущенными значениями\n",
    "\n",
    "Один из простых способов обработки пропущенных данных — их удаление: строк (`axis=0`) или столбцов (`axis=1`). Метод `dropna()` позволяет это сделать, а также имеет гибкие параметры:\n",
    "\n",
    "* `how='all'` — удаляет строки, где **все** значения пропущены.\n",
    "* `thresh=n` — удаляет строки, в которых менее **n** реальных значений.\n",
    "* `subset=[...]` — удаляет строки, если **NaN есть в указанных столбцах**."
   ]
  },
  {
   "cell_type": "code",
   "execution_count": 37,
   "id": "1c20de18-2110-428b-aa17-44bcf5dc0471",
   "metadata": {},
   "outputs": [
    {
     "data": {
      "text/html": [
       "<div>\n",
       "<style scoped>\n",
       "    .dataframe tbody tr th:only-of-type {\n",
       "        vertical-align: middle;\n",
       "    }\n",
       "\n",
       "    .dataframe tbody tr th {\n",
       "        vertical-align: top;\n",
       "    }\n",
       "\n",
       "    .dataframe thead th {\n",
       "        text-align: right;\n",
       "    }\n",
       "</style>\n",
       "<table border=\"1\" class=\"dataframe\">\n",
       "  <thead>\n",
       "    <tr style=\"text-align: right;\">\n",
       "      <th></th>\n",
       "      <th>A</th>\n",
       "      <th>B</th>\n",
       "      <th>C</th>\n",
       "      <th>D</th>\n",
       "    </tr>\n",
       "  </thead>\n",
       "  <tbody>\n",
       "    <tr>\n",
       "      <th>0</th>\n",
       "      <td>1.0</td>\n",
       "      <td>2.0</td>\n",
       "      <td>3.0</td>\n",
       "      <td>4.0</td>\n",
       "    </tr>\n",
       "  </tbody>\n",
       "</table>\n",
       "</div>"
      ],
      "text/plain": [
       "     A    B    C    D\n",
       "0  1.0  2.0  3.0  4.0"
      ]
     },
     "execution_count": 37,
     "metadata": {},
     "output_type": "execute_result"
    }
   ],
   "source": [
    "# Удаляет все  строки с пропущенными значениями\n",
    "df.dropna(axis = 0)"
   ]
  },
  {
   "cell_type": "code",
   "execution_count": 38,
   "id": "c6ee6a96-ff42-4f93-a39d-9a8080bbdcee",
   "metadata": {},
   "outputs": [
    {
     "data": {
      "text/html": [
       "<div>\n",
       "<style scoped>\n",
       "    .dataframe tbody tr th:only-of-type {\n",
       "        vertical-align: middle;\n",
       "    }\n",
       "\n",
       "    .dataframe tbody tr th {\n",
       "        vertical-align: top;\n",
       "    }\n",
       "\n",
       "    .dataframe thead th {\n",
       "        text-align: right;\n",
       "    }\n",
       "</style>\n",
       "<table border=\"1\" class=\"dataframe\">\n",
       "  <thead>\n",
       "    <tr style=\"text-align: right;\">\n",
       "      <th></th>\n",
       "      <th>A</th>\n",
       "      <th>B</th>\n",
       "    </tr>\n",
       "  </thead>\n",
       "  <tbody>\n",
       "    <tr>\n",
       "      <th>0</th>\n",
       "      <td>1.0</td>\n",
       "      <td>2.0</td>\n",
       "    </tr>\n",
       "    <tr>\n",
       "      <th>1</th>\n",
       "      <td>5.0</td>\n",
       "      <td>6.0</td>\n",
       "    </tr>\n",
       "    <tr>\n",
       "      <th>2</th>\n",
       "      <td>10.0</td>\n",
       "      <td>11.0</td>\n",
       "    </tr>\n",
       "  </tbody>\n",
       "</table>\n",
       "</div>"
      ],
      "text/plain": [
       "      A     B\n",
       "0   1.0   2.0\n",
       "1   5.0   6.0\n",
       "2  10.0  11.0"
      ]
     },
     "execution_count": 38,
     "metadata": {},
     "output_type": "execute_result"
    }
   ],
   "source": [
    "# Удаляет все столбцы с пропущенными значениями\n",
    "df.dropna(axis = 1)"
   ]
  },
  {
   "cell_type": "code",
   "execution_count": 39,
   "id": "a42ca4ac-597e-4d85-adb7-bac860be8044",
   "metadata": {},
   "outputs": [
    {
     "data": {
      "text/html": [
       "<div>\n",
       "<style scoped>\n",
       "    .dataframe tbody tr th:only-of-type {\n",
       "        vertical-align: middle;\n",
       "    }\n",
       "\n",
       "    .dataframe tbody tr th {\n",
       "        vertical-align: top;\n",
       "    }\n",
       "\n",
       "    .dataframe thead th {\n",
       "        text-align: right;\n",
       "    }\n",
       "</style>\n",
       "<table border=\"1\" class=\"dataframe\">\n",
       "  <thead>\n",
       "    <tr style=\"text-align: right;\">\n",
       "      <th></th>\n",
       "      <th>A</th>\n",
       "      <th>B</th>\n",
       "      <th>C</th>\n",
       "      <th>D</th>\n",
       "    </tr>\n",
       "  </thead>\n",
       "  <tbody>\n",
       "    <tr>\n",
       "      <th>0</th>\n",
       "      <td>1.0</td>\n",
       "      <td>2.0</td>\n",
       "      <td>3.0</td>\n",
       "      <td>4.0</td>\n",
       "    </tr>\n",
       "    <tr>\n",
       "      <th>1</th>\n",
       "      <td>5.0</td>\n",
       "      <td>6.0</td>\n",
       "      <td>NaN</td>\n",
       "      <td>8.0</td>\n",
       "    </tr>\n",
       "    <tr>\n",
       "      <th>2</th>\n",
       "      <td>10.0</td>\n",
       "      <td>11.0</td>\n",
       "      <td>12.0</td>\n",
       "      <td>NaN</td>\n",
       "    </tr>\n",
       "  </tbody>\n",
       "</table>\n",
       "</div>"
      ],
      "text/plain": [
       "      A     B     C    D\n",
       "0   1.0   2.0   3.0  4.0\n",
       "1   5.0   6.0   NaN  8.0\n",
       "2  10.0  11.0  12.0  NaN"
      ]
     },
     "execution_count": 39,
     "metadata": {},
     "output_type": "execute_result"
    }
   ],
   "source": [
    "# Возвращает массив, в котором нет строк, содержащих только значения NaN\n",
    "df.dropna(how = 'all')"
   ]
  },
  {
   "cell_type": "code",
   "execution_count": 40,
   "id": "1bbca985-4a97-457b-8e3a-ed6e4b823ae9",
   "metadata": {},
   "outputs": [
    {
     "data": {
      "text/html": [
       "<div>\n",
       "<style scoped>\n",
       "    .dataframe tbody tr th:only-of-type {\n",
       "        vertical-align: middle;\n",
       "    }\n",
       "\n",
       "    .dataframe tbody tr th {\n",
       "        vertical-align: top;\n",
       "    }\n",
       "\n",
       "    .dataframe thead th {\n",
       "        text-align: right;\n",
       "    }\n",
       "</style>\n",
       "<table border=\"1\" class=\"dataframe\">\n",
       "  <thead>\n",
       "    <tr style=\"text-align: right;\">\n",
       "      <th></th>\n",
       "      <th>A</th>\n",
       "      <th>B</th>\n",
       "      <th>C</th>\n",
       "      <th>D</th>\n",
       "    </tr>\n",
       "  </thead>\n",
       "  <tbody>\n",
       "    <tr>\n",
       "      <th>0</th>\n",
       "      <td>1.0</td>\n",
       "      <td>2.0</td>\n",
       "      <td>3.0</td>\n",
       "      <td>4.0</td>\n",
       "    </tr>\n",
       "  </tbody>\n",
       "</table>\n",
       "</div>"
      ],
      "text/plain": [
       "     A    B    C    D\n",
       "0  1.0  2.0  3.0  4.0"
      ]
     },
     "execution_count": 40,
     "metadata": {},
     "output_type": "execute_result"
    }
   ],
   "source": [
    "# Мы указали, что должны вернуться строки с 4 значениями\n",
    "df.dropna(thresh = 4)"
   ]
  },
  {
   "cell_type": "code",
   "execution_count": 41,
   "id": "7685989e-6b9d-415e-80c9-c3074fd20816",
   "metadata": {},
   "outputs": [
    {
     "data": {
      "text/html": [
       "<div>\n",
       "<style scoped>\n",
       "    .dataframe tbody tr th:only-of-type {\n",
       "        vertical-align: middle;\n",
       "    }\n",
       "\n",
       "    .dataframe tbody tr th {\n",
       "        vertical-align: top;\n",
       "    }\n",
       "\n",
       "    .dataframe thead th {\n",
       "        text-align: right;\n",
       "    }\n",
       "</style>\n",
       "<table border=\"1\" class=\"dataframe\">\n",
       "  <thead>\n",
       "    <tr style=\"text-align: right;\">\n",
       "      <th></th>\n",
       "      <th>A</th>\n",
       "      <th>B</th>\n",
       "      <th>C</th>\n",
       "      <th>D</th>\n",
       "    </tr>\n",
       "  </thead>\n",
       "  <tbody>\n",
       "    <tr>\n",
       "      <th>0</th>\n",
       "      <td>1.0</td>\n",
       "      <td>2.0</td>\n",
       "      <td>3.0</td>\n",
       "      <td>4.0</td>\n",
       "    </tr>\n",
       "    <tr>\n",
       "      <th>2</th>\n",
       "      <td>10.0</td>\n",
       "      <td>11.0</td>\n",
       "      <td>12.0</td>\n",
       "      <td>NaN</td>\n",
       "    </tr>\n",
       "  </tbody>\n",
       "</table>\n",
       "</div>"
      ],
      "text/plain": [
       "      A     B     C    D\n",
       "0   1.0   2.0   3.0  4.0\n",
       "2  10.0  11.0  12.0  NaN"
      ]
     },
     "execution_count": 41,
     "metadata": {},
     "output_type": "execute_result"
    }
   ],
   "source": [
    "# Задали столбец C, удалит строки в которых содержится NaN\n",
    "df.dropna(subset = ('C'))"
   ]
  },
  {
   "cell_type": "markdown",
   "id": "d19c4aec-9b25-4d52-a1a6-bb0ec0b1c39f",
   "metadata": {},
   "source": [
    "Удаление пропущенных данных удобно, но опасно: можно потерять слишком много записей или важных признаков, что ухудшит качество анализа и работы модели, поэтому лучше рассмотреть метод интерполяции для работы с пропущенными значениями."
   ]
  },
  {
   "cell_type": "markdown",
   "id": "6e2cc94e-785a-4648-8aa6-d9d38167cca0",
   "metadata": {},
   "source": [
    "## Подстановка пропущенных значений\n",
    "\n",
    "Одним из наиболее распространенных методов интерполяции является подстановка среднего (mean imputation), когда мы просто заменяем отсутствующее значение средним значением всего столбца признаков. Удобный способ сделать это - использовать класс Simpleimputer из scikit-learn."
   ]
  },
  {
   "cell_type": "code",
   "execution_count": 42,
   "id": "a87acf0a-3011-4707-b4fd-b3f726d65f2e",
   "metadata": {},
   "outputs": [
    {
     "data": {
      "text/plain": [
       "array([[ 1. ,  2. ,  3. ,  4. ],\n",
       "       [ 5. ,  6. ,  7.5,  8. ],\n",
       "       [10. , 11. , 12. ,  6. ]])"
      ]
     },
     "execution_count": 42,
     "metadata": {},
     "output_type": "execute_result"
    }
   ],
   "source": [
    "from sklearn.impute import SimpleImputer\n",
    "import numpy as np\n",
    "\n",
    "imr = SimpleImputer(missing_values = np.nan, strategy = 'mean')\n",
    "imr = imr.fit(df.values)\n",
    "imputed_data = imr.transform(df.values)\n",
    "imputed_data"
   ]
  },
  {
   "cell_type": "markdown",
   "id": "1648319d-a612-47c5-9e10-448f57b86077",
   "metadata": {},
   "source": [
    "Мы заменили NaN средним по столбцу. Можно также использовать медиану **(median)** или самое частое значение **(most_frequent)** — особенно удобно для категориальных признаков, например, с цветами.\n",
    "\n",
    "Альтернативным и еще более удобным способом подстановки отсутствующих значений является применение метода **fillna** библиотеки pandas и передача метода подстановки в качестве аргумента."
   ]
  },
  {
   "cell_type": "code",
   "execution_count": 43,
   "id": "2750658f-f261-4a09-b2fc-7f53d7e8d434",
   "metadata": {},
   "outputs": [
    {
     "data": {
      "text/html": [
       "<div>\n",
       "<style scoped>\n",
       "    .dataframe tbody tr th:only-of-type {\n",
       "        vertical-align: middle;\n",
       "    }\n",
       "\n",
       "    .dataframe tbody tr th {\n",
       "        vertical-align: top;\n",
       "    }\n",
       "\n",
       "    .dataframe thead th {\n",
       "        text-align: right;\n",
       "    }\n",
       "</style>\n",
       "<table border=\"1\" class=\"dataframe\">\n",
       "  <thead>\n",
       "    <tr style=\"text-align: right;\">\n",
       "      <th></th>\n",
       "      <th>A</th>\n",
       "      <th>B</th>\n",
       "      <th>C</th>\n",
       "      <th>D</th>\n",
       "    </tr>\n",
       "  </thead>\n",
       "  <tbody>\n",
       "    <tr>\n",
       "      <th>0</th>\n",
       "      <td>1.0</td>\n",
       "      <td>2.0</td>\n",
       "      <td>3.0</td>\n",
       "      <td>4.0</td>\n",
       "    </tr>\n",
       "    <tr>\n",
       "      <th>1</th>\n",
       "      <td>5.0</td>\n",
       "      <td>6.0</td>\n",
       "      <td>7.5</td>\n",
       "      <td>8.0</td>\n",
       "    </tr>\n",
       "    <tr>\n",
       "      <th>2</th>\n",
       "      <td>10.0</td>\n",
       "      <td>11.0</td>\n",
       "      <td>12.0</td>\n",
       "      <td>6.0</td>\n",
       "    </tr>\n",
       "  </tbody>\n",
       "</table>\n",
       "</div>"
      ],
      "text/plain": [
       "      A     B     C    D\n",
       "0   1.0   2.0   3.0  4.0\n",
       "1   5.0   6.0   7.5  8.0\n",
       "2  10.0  11.0  12.0  6.0"
      ]
     },
     "execution_count": 43,
     "metadata": {},
     "output_type": "execute_result"
    }
   ],
   "source": [
    "df.fillna(df.mean())"
   ]
  },
  {
   "cell_type": "markdown",
   "id": "45e6d674-5fc9-48da-a8df-4d57c38bbcec",
   "metadata": {},
   "source": [
    "## API оцениватели scikit-learn\n",
    "\n",
    "`SimpleImputer` из scikit-learn — это инструмент для автоматической подстановки пропущенных значений. Он входит в так называемый **transformer API**, который используется для обработки и преобразования данных в машинном обучении.\n",
    "\n",
    "У этого класса два основных метода:\n",
    "\n",
    "* **`fit()`** — анализирует обучающие данные и вычисляет параметры для подстановки (например, среднее или медиану по столбцам).\n",
    "* **`transform()`** — применяет эти параметры для замены пропущенных значений в новых данных.\n",
    "\n",
    "Важно, чтобы при применении `transform()` структура (количество признаков) совпадала с той, что использовалась в `fit()`. Это позволяет точно и последовательно заполнять пропуски в тренировочных и тестовых данных.\n",
    "\n",
    "Таким образом, `SimpleImputer` помогает стандартизировать обработку пропущенных значений в соответствии с выбранной стратегией, облегчая подготовку данных для обучения моделей.\n"
   ]
  }
 ],
 "metadata": {
  "kernelspec": {
   "display_name": "ML Lab",
   "language": "python",
   "name": "my-ml-toolkit_env"
  },
  "language_info": {
   "codemirror_mode": {
    "name": "ipython",
    "version": 3
   },
   "file_extension": ".py",
   "mimetype": "text/x-python",
   "name": "python",
   "nbconvert_exporter": "python",
   "pygments_lexer": "ipython3",
   "version": "3.12.3"
  }
 },
 "nbformat": 4,
 "nbformat_minor": 5
}
