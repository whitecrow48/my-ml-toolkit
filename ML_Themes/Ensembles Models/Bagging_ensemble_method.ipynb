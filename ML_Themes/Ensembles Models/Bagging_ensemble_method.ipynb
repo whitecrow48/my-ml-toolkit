{
 "cells": [
  {
   "cell_type": "markdown",
   "id": "bfa75b89-c26e-4ab7-93f9-aa9d49d10bb1",
   "metadata": {},
   "source": [
    "<div align=\"center\">\n",
    "\n",
    "# Бэггинг: создание ансамбля классификаторов из исходного набора данных\n",
    "\n",
    "</div>\n",
    "\n",
    "---\n",
    "\n",
    "**Бэггинг (bagging, bootstrap aggregating)** - метод обучения ансамбля, тесно связанный с классификатором **VotingClassifier** из библиотеки scikit-learn, который реализует **мажоритарное голосование** (majority voting) по предсказаниям нескольких моделей.\n",
    "\n",
    "## Бэггинг (Bagging, bootstrap aggregating)\n",
    "\n",
    "### Что это?\n",
    "\n",
    "* Метод ансамблирования, который использует **бутстрэп-выборки** — случайные выборки с повторениями из исходного обучающего набора.\n",
    "* В отличие от простого ансамбля, где все классификаторы обучаются на одном и том же полном наборе данных, здесь каждый классификатор обучается на своей уникальной бутстрэп-выборке.\n",
    "\n",
    "### Как это работает?\n",
    "\n",
    "1. Из исходного набора данных создаются $t$ бутстрэп-выборок — случайных подмножеств с заменой.\n",
    "\n",
    "   * В каждой подвыборке есть повторы одних объектов, а некоторые объекты из исходного набора могут не попасть вовсе.\n",
    "2. На каждой из этих выборок обучается отдельный классификатор (обычно необрезанное дерево решений).\n",
    "3. Итоговое решение ансамбля получается путём **мажоритарного голосования** предсказаний всех классификаторов.\n",
    "\n",
    "### Связь со случайным лесом\n",
    "\n",
    "* **Случайный лес** — это частный случай бэггинга.\n",
    "* В случайном лесе дополнительно при обучении каждого дерева выбирается случайное подмножество признаков (фич).\n",
    "* Это добавляет ещё больше случайности и снижает корреляцию между деревьями, повышая качество ансамбля.\n",
    "\n",
    "\n",
    "### Зачем бэггинг нужен?\n",
    "\n",
    "* Уменьшает дисперсию модели (устраняет переобучение).\n",
    "* Повышает устойчивость и точность за счёт объединения разнородных обученных моделей."
   ]
  },
  {
   "cell_type": "code",
   "execution_count": 29,
   "id": "06cc4b52-2aa3-4a56-bb26-a54a2df9a83f",
   "metadata": {},
   "outputs": [],
   "source": [
    "# Применение bagging на наборе данных Wine\n",
    "# Рассмотрим только классы вин 2 и 3, и выберем два признака:\n",
    "# OD280/OD315 of diluted wines и Alcohol\n",
    "\n",
    "import pandas as pd\n",
    "import numpy as np\n",
    "import matplotlib.pyplot as plt\n",
    "from sklearn.preprocessing import LabelEncoder\n",
    "from sklearn.model_selection import train_test_split\n",
    "from sklearn.ensemble import BaggingClassifier\n",
    "from sklearn.tree import DecisionTreeClassifier\n",
    "from sklearn.metrics import accuracy_score"
   ]
  },
  {
   "cell_type": "code",
   "execution_count": 30,
   "id": "a5c957bb-e8a2-423c-9035-af976932675c",
   "metadata": {},
   "outputs": [
    {
     "data": {
      "text/html": [
       "<div>\n",
       "<style scoped>\n",
       "    .dataframe tbody tr th:only-of-type {\n",
       "        vertical-align: middle;\n",
       "    }\n",
       "\n",
       "    .dataframe tbody tr th {\n",
       "        vertical-align: top;\n",
       "    }\n",
       "\n",
       "    .dataframe thead th {\n",
       "        text-align: right;\n",
       "    }\n",
       "</style>\n",
       "<table border=\"1\" class=\"dataframe\">\n",
       "  <thead>\n",
       "    <tr style=\"text-align: right;\">\n",
       "      <th></th>\n",
       "      <th>Class label</th>\n",
       "      <th>Alcohol</th>\n",
       "      <th>OD280/OD315 of diluted wines</th>\n",
       "    </tr>\n",
       "  </thead>\n",
       "  <tbody>\n",
       "    <tr>\n",
       "      <th>59</th>\n",
       "      <td>2</td>\n",
       "      <td>12.37</td>\n",
       "      <td>1.82</td>\n",
       "    </tr>\n",
       "    <tr>\n",
       "      <th>60</th>\n",
       "      <td>2</td>\n",
       "      <td>12.33</td>\n",
       "      <td>1.67</td>\n",
       "    </tr>\n",
       "    <tr>\n",
       "      <th>61</th>\n",
       "      <td>2</td>\n",
       "      <td>12.64</td>\n",
       "      <td>1.59</td>\n",
       "    </tr>\n",
       "    <tr>\n",
       "      <th>62</th>\n",
       "      <td>2</td>\n",
       "      <td>13.67</td>\n",
       "      <td>2.46</td>\n",
       "    </tr>\n",
       "    <tr>\n",
       "      <th>63</th>\n",
       "      <td>2</td>\n",
       "      <td>12.37</td>\n",
       "      <td>2.87</td>\n",
       "    </tr>\n",
       "  </tbody>\n",
       "</table>\n",
       "</div>"
      ],
      "text/plain": [
       "    Class label  Alcohol  OD280/OD315 of diluted wines\n",
       "59            2    12.37                          1.82\n",
       "60            2    12.33                          1.67\n",
       "61            2    12.64                          1.59\n",
       "62            2    13.67                          2.46\n",
       "63            2    12.37                          2.87"
      ]
     },
     "execution_count": 30,
     "metadata": {},
     "output_type": "execute_result"
    }
   ],
   "source": [
    "# Загрузка данных\n",
    "df_wine = pd.read_csv('https://archive.ics.uci.edu/ml/'\n",
    "                      'machine-learning-databases/'\n",
    "                      'wine/wine.data',\n",
    "                      header = None)\n",
    "df_wine.columns = ['Class label', 'Alcohol',\n",
    "                   'Malic acid', 'Ash',\n",
    "                   'Alcalinity of ash', 'Magnesium',\n",
    "                   'Total phenols', 'Flavanoids',\n",
    "                   'Nonflavanoid phenols',\n",
    "                   'Proanthocyanins',\n",
    "                   'Color intensity', 'Hue',\n",
    "                   'OD280/OD315 of diluted wines',\n",
    "                   'Proline']\n",
    "# Отбрасываем класс 1\n",
    "df_wine = df_wine[df_wine['Class label'] != 1]\n",
    "\n",
    "# Разделение данных\n",
    "X = df_wine[['Alcohol', 'OD280/OD315 of diluted wines']].values\n",
    "y = df_wine['Class label'].values\n",
    "\n",
    "df_wine[['Class label', 'Alcohol', 'OD280/OD315 of diluted wines']].head()"
   ]
  },
  {
   "cell_type": "code",
   "execution_count": 31,
   "id": "40068db8-a0f7-4116-8d25-60fe739640f7",
   "metadata": {},
   "outputs": [],
   "source": [
    "# Кодирование меток класса в двоичный формат\n",
    "le = LabelEncoder()\n",
    "y = le.fit_transform(y)\n",
    "\n",
    "X_train, X_test, y_train, y_test =\\\n",
    "    train_test_split(X, y, test_size = 0.2,\n",
    "                     random_state = 1,\n",
    "                     stratify = y)"
   ]
  },
  {
   "cell_type": "code",
   "execution_count": 32,
   "id": "cee01a7f-4acf-4e6c-b87a-fc6dadf3551a",
   "metadata": {},
   "outputs": [],
   "source": [
    "# Применим в качестве базового классификатора \n",
    "# несокращенное дерево решений и создадим ансамбль из \n",
    "# 500 деревьев обученных на разных бустреп-выборках\n",
    "\n",
    "tree = DecisionTreeClassifier(criterion = 'entropy',\n",
    "                              random_state = 1,\n",
    "                              max_depth = None)\n",
    "\n",
    "bag = BaggingClassifier(estimator = tree,\n",
    "                        n_estimators = 500,\n",
    "                        max_samples = 1.0,\n",
    "                        max_features = 1.0,\n",
    "                        bootstrap = True,\n",
    "                        bootstrap_features = False,\n",
    "                        n_jobs = 1,\n",
    "                        random_state = 1)\n"
   ]
  },
  {
   "cell_type": "code",
   "execution_count": 33,
   "id": "51b814a9-6b7b-444c-8356-5264bbd22f0c",
   "metadata": {},
   "outputs": [
    {
     "name": "stdout",
     "output_type": "stream",
     "text": [
      "Точность при обучении и тестировании 1.000/0.833\n"
     ]
    }
   ],
   "source": [
    "# Рассчитаем точность на train и test, чтобы сравнить \n",
    "# производительность классификатора беггинга с \n",
    "# производительностью одного несокращенного дерева решений\n",
    "\n",
    "tree = tree.fit(X_train, y_train)\n",
    "y_train_pred = tree.predict(X_train)\n",
    "y_test_pred = tree.predict(X_test)\n",
    "tree_train = accuracy_score(y_train, y_train_pred)\n",
    "tree_test = accuracy_score(y_test, y_test_pred)\n",
    "print(f'Точность при обучении/тестировании '\n",
    "      f'{tree_train:.3f}/{tree_test:.3f}')"
   ]
  },
  {
   "cell_type": "markdown",
   "id": "7b5d24e7-ebc7-4d3a-87b7-48f110c57660",
   "metadata": {},
   "source": [
    "Судя по точности, несокращенное дерево решений правильно предсказыает все метки обучающего класса, но дает более низкую точность на тестовом наборе, что указывает на переобучение модели (высокую дисперсию)."
   ]
  },
  {
   "cell_type": "code",
   "execution_count": 35,
   "id": "a42c82d1-3787-4c0c-bcc3-cc1fc7817f85",
   "metadata": {},
   "outputs": [
    {
     "name": "stdout",
     "output_type": "stream",
     "text": [
      "Точность бэггинга при обучении/тестировании 1.000/0.917\n"
     ]
    }
   ],
   "source": [
    "# Bagging\n",
    "\n",
    "bag = bag.fit(X_train, y_train)\n",
    "y_train_pred = bag.predict(X_train)\n",
    "y_test_pred = bag.predict(X_test)\n",
    "bag_train = accuracy_score(y_train, y_train_pred)\n",
    "bag_test = accuracy_score(y_test, y_test_pred)\n",
    "print(f'Точность бэггинга при обучении/тестировании '\n",
    "      f'{bag_train:.3f}/{bag_test:.3f}')"
   ]
  },
  {
   "cell_type": "markdown",
   "id": "f8fd97bd-2d35-435d-bb52-78a36d76d7fe",
   "metadata": {},
   "source": [
    "Как видно, бэггинг-классификатор имеет более высокую точность на тестовой выборке, теперь можно сравнить области принятий решений."
   ]
  },
  {
   "cell_type": "code",
   "execution_count": 38,
   "id": "f5504669-466a-4f65-995b-c2bac4840beb",
   "metadata": {},
   "outputs": [
    {
     "data": {
      "image/png": "[encoded data removed]",
      "text/plain": [
       "<Figure size 800x300 with 2 Axes>"
      ]
     },
     "metadata": {},
     "output_type": "display_data"
    }
   ],
   "source": [
    "x_min = X_train[:, 0].min() - 1\n",
    "x_max = X_train[:, 0].max() + 1\n",
    "y_min = X_train[:, 1].min() - 1\n",
    "y_max = X_train[:, 1].max() + 1\n",
    "\n",
    "xx, yy = np.meshgrid(np.arange(x_min, x_max, 0.1),\n",
    "                    np.arange(y_min, y_max, 0.1))\n",
    "\n",
    "f, axarr = plt.subplots(nrows = 1, ncols = 2,\n",
    "                        sharex = 'col',\n",
    "                        sharey = 'row',\n",
    "                        figsize = (8, 3))\n",
    "\n",
    "for idx, clf, tt in zip ([0, 1], [tree, bag],\n",
    "                         ['Дерево решений', 'Бэггинг']):\n",
    "    clf.fit(X_train, y_train)\n",
    "    Z = clf.predict(np.c_[xx.ravel(), yy.ravel()])\n",
    "    Z = Z.reshape(xx.shape)\n",
    "    axarr[idx].contourf(xx, yy, Z, alpha = 0.3)\n",
    "    axarr[idx].scatter(X_train[y_train == 0, 0],\n",
    "                       X_train[y_train == 0, 1],\n",
    "                       c = 'blue', marker = '^')\n",
    "    axarr[idx].scatter(X_train[y_train == 1, 0],\n",
    "                       X_train[y_train == 1, 1],\n",
    "                       c = 'green', marker = 'o')\n",
    "    axarr[idx].set_title(tt)\n",
    "axarr[0].set_ylabel('OD280/OD315 разбавленных вин', fontsize = 12)\n",
    "plt.tight_layout()\n",
    "plt.text(0, -0.2,\n",
    "         s = 'Алкоголь',\n",
    "         ha = 'center',\n",
    "         va = 'center',\n",
    "         fontsize = 12,\n",
    "         transform = axarr[1].transAxes)\n",
    "plt.show()"
   ]
  },
  {
   "cell_type": "markdown",
   "id": "db7887ca-d08f-4577-9e97-97d1472d16b7",
   "metadata": {},
   "source": [
    "На графике видно, что кусочно-линейная разделяющая граница трехузлового дерева решений выглядит более гладкой в случае использования бэггинга.\n",
    "\n",
    "---\n",
    "\n",
    "## Когда бэггинг проявляет себя лучше всего\n",
    "\n",
    "* **Сложные задачи** классификации + **высокая размерность** данных → отдельные деревья решений легко переобучаются.\n",
    "* Бэггинг снижает **дисперсию** (variance) модели — сглаживает разброс предсказаний за счёт усреднения по ансамблю.\n",
    "\n",
    "## Ограничения бэггинга\n",
    "\n",
    "* Почти **не уменьшает смещение** (bias) — то есть систематическую ошибку модели.\n",
    "* Если базовая модель слишком простая и не способна уловить закономерности в данных (высокий bias), бэггинг не спасёт.\n",
    "* Поэтому в бэггинге используют **модели с низким bias**, но высокой variance, которые склонны к переобучению.\n",
    "  **Пример:** несокращённые деревья решений.\n",
    "\n",
    "📌 **Вывод:**\n",
    "Бэггинг = хороший выбор для \"шумных\", сложных задач, когда модель имеет высокий разброс предсказаний, но способна хорошо подстраиваться под данные."
   ]
  }
 ],
 "metadata": {
  "kernelspec": {
   "display_name": "ML Lab",
   "language": "python",
   "name": "my-ml-toolkit_env"
  },
  "language_info": {
   "codemirror_mode": {
    "name": "ipython",
    "version": 3
   },
   "file_extension": ".py",
   "mimetype": "text/x-python",
   "name": "python",
   "nbconvert_exporter": "python",
   "pygments_lexer": "ipython3",
   "version": "3.12.3"
  }
 },
 "nbformat": 4,
 "nbformat_minor": 5
}
